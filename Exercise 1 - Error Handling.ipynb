{
 "cells": [
  {
   "cell_type": "code",
   "execution_count": 2,
   "id": "f9f53b04",
   "metadata": {},
   "outputs": [
    {
     "name": "stdout",
     "output_type": "stream",
     "text": [
      "Error: That's not a valid integer\n"
     ]
    }
   ],
   "source": [
    "# 1. Write a function that asks the user for an integer input and prints it. Use try/except to catch a ValueError if the input is not an integer, \n",
    "# printing an error message instead.\n",
    "\n",
    "def print_input():\n",
    "    try:\n",
    "        user_input = input(\"Enter an integer: \")\n",
    "        value = int(user_input)\n",
    "    except ValueError:\n",
    "        print(\"Error: That's not a valid integer\")\n",
    "    else:\n",
    "        print(value)\n",
    "\n",
    "print_input()"
   ]
  },
  {
   "cell_type": "code",
   "execution_count": 8,
   "id": "2880b40d",
   "metadata": {},
   "outputs": [
    {
     "name": "stdout",
     "output_type": "stream",
     "text": [
      "Error: Input cancelled by user.\n"
     ]
    }
   ],
   "source": [
    "# 2. Modify the previous function to also handle a KeyboardInterrupt exception, which occurs when the user cancels the input, printing a different error message.\n",
    "def print_input():\n",
    "    try:\n",
    "        user_input = input(\"Enter an integer: \")\n",
    "        value = int(user_input)\n",
    "    except KeyboardInterrupt:\n",
    "        print(\"Error: Input cancelled by user.\")\n",
    "    except ValueError:\n",
    "        print(\"Error: That's not a valid integer\")\n",
    "    else:\n",
    "        print(value)\n",
    "\n",
    "print_input()"
   ]
  },
  {
   "cell_type": "code",
   "execution_count": 9,
   "id": "c2b79458",
   "metadata": {},
   "outputs": [
    {
     "name": "stdout",
     "output_type": "stream",
     "text": [
      "Error: Input cancelled by user.\n",
      "Done: Completed input processing.\n"
     ]
    }
   ],
   "source": [
    "# 3. Extend the function from question 1 to include else and finally blocks, where else prints a success message and finally always prints a completion message.\n",
    "def print_input():\n",
    "    try:\n",
    "        user_input = input(\"Enter an integer: \")\n",
    "        value = int(user_input)\n",
    "    except KeyboardInterrupt:\n",
    "        print(\"Error: Input cancelled by user.\")\n",
    "    except ValueError:\n",
    "        print(\"Error: That's not a valid integer.\")\n",
    "    else:\n",
    "        print(value)\n",
    "        print(\"Success: You entered a valid integer.\")\n",
    "    finally:\n",
    "        print(\"Done: Completed input processing.\")\n",
    "\n",
    "print_input()"
   ]
  },
  {
   "cell_type": "code",
   "execution_count": 11,
   "id": "01d5e464",
   "metadata": {},
   "outputs": [
    {
     "name": "stdout",
     "output_type": "stream",
     "text": [
      "invalid literal for int() with base 10: ''\n"
     ]
    }
   ],
   "source": [
    "# 4. Write a function that raises an exception with the message Number is negative if a user enters a negative number. If the exception is raised, print it.\n",
    "def check_number():\n",
    "    try:\n",
    "        n = int(input(\"Enter a number: \"))\n",
    "        if n < 0:\n",
    "            raise Exception(\"Number is negative\")\n",
    "    except Exception as e:\n",
    "        print(e)\n",
    "    else:\n",
    "        print(n)\n",
    "\n",
    "check_number()"
   ]
  },
  {
   "cell_type": "code",
   "execution_count": 12,
   "id": "2721091e",
   "metadata": {},
   "outputs": [
    {
     "name": "stdout",
     "output_type": "stream",
     "text": [
      "The file 'wsvdv' was not found.\n"
     ]
    }
   ],
   "source": [
    "# 5. Write a function that attempts to open a file provided by the user and print its contents. Use error handling to catch a FileNotFoundError and print a custom error message.\n",
    "# Ensure the file is properly closed in a finally block if it was opened successfully.\n",
    "def print_file():\n",
    "    filename = input(\"Enter the filename to open: \")\n",
    "    file = None\n",
    "    try:\n",
    "        file = open(filename, 'r')\n",
    "        contents = file.read()\n",
    "        print(contents)\n",
    "    except FileNotFoundError:\n",
    "        print(f\"The file '{filename}' was not found.\")\n",
    "    finally:\n",
    "        if file is not None:\n",
    "            file.close()\n",
    "            print(f\"File '{filename}' has been closed.\")\n",
    "\n",
    "print_file()"
   ]
  },
  {
   "cell_type": "code",
   "execution_count": 14,
   "id": "52128523",
   "metadata": {},
   "outputs": [
    {
     "name": "stdout",
     "output_type": "stream",
     "text": [
      "10\n",
      "7\n",
      "True\n"
     ]
    }
   ],
   "source": [
    "# 6. Given a list of mixed data types, write a function that prints each item if it's an integer. \n",
    "# Use error handling to skip any item that raises a TypeError when cast to an integer.\n",
    "def print_integers(list):\n",
    "    for item in list:\n",
    "        try:\n",
    "            _ = int(item)\n",
    "        except TypeError:\n",
    "            continue\n",
    "        else:\n",
    "            if isinstance(item, int):\n",
    "                print(item)\n",
    "\n",
    "data = [10, \"20\", 3.5, None, [1,2], 7, True]\n",
    "print_integers(data)"
   ]
  },
  {
   "cell_type": "code",
   "execution_count": 15,
   "id": "702ea9e5",
   "metadata": {},
   "outputs": [
    {
     "name": "stdout",
     "output_type": "stream",
     "text": [
      "6\n",
      "None\n",
      "13.0\n"
     ]
    }
   ],
   "source": [
    "# 7. Write a function that takes a list of numbers and returns the sum. If the list contains a non-numeric type, \n",
    "# catch the exception that would be raised by the sum function and return None instead.\n",
    "def num_list(numbers):\n",
    "    try:\n",
    "        return sum(numbers)\n",
    "    except TypeError:\n",
    "        return None\n",
    "    \n",
    "print(num_list([1, 2, 3]))\n",
    "print(num_list([1, \"a\", 3]))\n",
    "print(num_list([10.5, 4.5, -2])) "
   ]
  },
  {
   "cell_type": "code",
   "execution_count": null,
   "id": "85a1ab50",
   "metadata": {},
   "outputs": [
    {
     "name": "stdout",
     "output_type": "stream",
     "text": [
      "2.0\n",
      "None\n"
     ]
    }
   ],
   "source": [
    "# 8. Write a function that divides two numbers provided by the user, handling division by zero and non-numeric input exceptions. \n",
    "# It should return the division result or an appropriate error message.\n",
    "def division():\n",
    "    try:\n",
    "        numerator = float(input(\"Enter the numerator: \"))\n",
    "        denominator = float(input(\"Enter the denominator\"))\n",
    "        result = numerator / denominator\n",
    "    except ValueError:\n",
    "        print(\"Please enter valid numeric values.\")\n",
    "    except ZeroDivisionError:\n",
    "        print(\"Division by 0 is not allowed.\")\n",
    "    else:\n",
    "        print(result)\n",
    "\n",
    "output = division()\n",
    "print(output)"
   ]
  },
  {
   "cell_type": "code",
   "execution_count": 17,
   "id": "005b2643",
   "metadata": {},
   "outputs": [
    {
     "name": "stdout",
     "output_type": "stream",
     "text": [
      "Successfully fetched http://example.com (1256 bytes)\n",
      "URL error for http://nonexistent.domain: [Errno 11001] getaddrinfo failed\n",
      "Successfully fetched https://www.python.org (50739 bytes)\n"
     ]
    }
   ],
   "source": [
    "# 9. Write a script that iterates over a list of URLs, attempting to fetch the content of each URL using urllib.request.urlopen. \n",
    "# Use error handling to print a message for each URL that cannot be fetched, continuing with the next URL in the list.\n",
    "import urllib.request\n",
    "import urllib.error\n",
    "\n",
    "def fetch_urls(url_list):\n",
    "    for url in url_list:\n",
    "        try:\n",
    "            with urllib.request.urlopen(url) as response:\n",
    "                content = response.read()\n",
    "                print(f\"Successfully fetched {url} ({len(content)} bytes)\")\n",
    "        except urllib.error.HTTPError as e:\n",
    "            print(f\"HTTP error for {url}: {e.code} {e.reason}\")\n",
    "        except urllib.error.URLError as e:\n",
    "            print(f\"URL error for {url}: {e.reason}\")\n",
    "        except Exception as e:\n",
    "            print(f\"Unexpected error for {url}: {e}\")\n",
    "\n",
    "urls = [\n",
    "    \"http://example.com\",\n",
    "    \"http://nonexistent.domain\",\n",
    "    \"https://www.python.org\"\n",
    "]\n",
    "fetch_urls(urls)"
   ]
  },
  {
   "cell_type": "code",
   "execution_count": 18,
   "id": "2619472b",
   "metadata": {},
   "outputs": [
    {
     "name": "stdout",
     "output_type": "stream",
     "text": [
      "name: Alice\n",
      "Error: key 'job' not found in dictionary.\n",
      "city: Wonderland\n",
      "Error: key 'email' not found in dictionary.\n"
     ]
    }
   ],
   "source": [
    "# 10. Write a function that takes a dictionary and a list of keys, attempting to print the value for each key. Use error handling to catch and print a \n",
    "# message for any key that doesn't exist in the dictionary, without stopping the script.\n",
    "def print_dict_values(d: dict, keys: list):\n",
    "    for key in keys:\n",
    "        try:\n",
    "            value = d[key]\n",
    "        except KeyError:\n",
    "            print(f\"Error: key '{key}' not found in dictionary.\")\n",
    "        else:\n",
    "            print(f\"{key}: {value}\")\n",
    "\n",
    "mydict = {\"name\": \"Alice\", \"age\": 30, \"city\": \"Wonderland\"}\n",
    "keys_to_search = [\"name\", \"job\", \"city\", \"email\"]\n",
    "print_dict_values(mydict, keys_to_search)"
   ]
  },
  {
   "cell_type": "code",
   "execution_count": 19,
   "id": "f54bceb1",
   "metadata": {},
   "outputs": [
    {
     "name": "stdout",
     "output_type": "stream",
     "text": [
      "Parsed '2025-05-05' as datetime.datetime(2025, 5, 5, 0, 0)\n",
      "'05/05/2025' is not in the format %Y-%m-%d\n",
      "'2025-13-01' is not in the format %Y-%m-%d\n",
      "'2025-02-29' is not in the format %Y-%m-%d\n",
      "Parsed '2025-12-31' as datetime.datetime(2025, 12, 31, 0, 0)\n",
      "'invalid-date' is not in the format %Y-%m-%d\n",
      "Successfully parsed dates: \n",
      "2025-05-05 00:00:00\n",
      "2025-12-31 00:00:00\n"
     ]
    }
   ],
   "source": [
    "# 11. Write a script that uses the datetime module to parse a list of date strings into datetime objects. \n",
    "# Use error handling to catch and print an error message for any strings that are in an incorrect format, skipping over them.\n",
    "from datetime import datetime\n",
    "\n",
    "def parse_date_strings(date_strings, date_format=\"%Y-%m-%d\"):\n",
    "    parsed_dates = []\n",
    "    for ds in date_strings:\n",
    "        try:\n",
    "            dt = datetime.strptime(ds, date_format)\n",
    "        except ValueError:\n",
    "            print(f\"'{ds}' is not in the format {date_format}\")\n",
    "        else:\n",
    "            print(f\"Parsed '{ds}' as {dt!r}\")\n",
    "            parsed_dates.append(dt)\n",
    "    return parsed_dates\n",
    "\n",
    "dates = [\n",
    "    \"2025-05-05\",\n",
    "    \"05/05/2025\",\n",
    "    \"2025-13-01\",  \n",
    "    \"2025-02-29\",   \n",
    "    \"2025-12-31\",\n",
    "    \"invalid-date\"\n",
    "]\n",
    "fmt = '%Y-%m-%d'\n",
    "result = parse_date_strings(dates, fmt)\n",
    "\n",
    "print(\"Successfully parsed dates: \")\n",
    "for d in result:\n",
    "    print(d)"
   ]
  }
 ],
 "metadata": {
  "kernelspec": {
   "display_name": "venv",
   "language": "python",
   "name": "python3"
  },
  "language_info": {
   "codemirror_mode": {
    "name": "ipython",
    "version": 3
   },
   "file_extension": ".py",
   "mimetype": "text/x-python",
   "name": "python",
   "nbconvert_exporter": "python",
   "pygments_lexer": "ipython3",
   "version": "3.13.2"
  }
 },
 "nbformat": 4,
 "nbformat_minor": 5
}
