{
 "cells": [
  {
   "cell_type": "code",
   "execution_count": 2,
   "id": "91b29091",
   "metadata": {},
   "outputs": [
    {
     "name": "stdout",
     "output_type": "stream",
     "text": [
      "35.991\n"
     ]
    }
   ],
   "source": [
    "# question 1\n",
    "game = {\"title\": \"Resident Evil 4 Remake\", \"price\": 39.99, \"platforms\": [\"PlayStation 4\", \"PlayStation 5\", \"Windows\", \"Xbox Series X/S\"]}\n",
    "\n",
    "# question 2\n",
    "print (game[\"price\"] * 0.9)"
   ]
  },
  {
   "cell_type": "code",
   "execution_count": 3,
   "id": "e255f862",
   "metadata": {},
   "outputs": [
    {
     "name": "stdout",
     "output_type": "stream",
     "text": [
      "{'title': 'Resident Evil 4 Remake', 'price': 39.99, 'rating': 4.7, 'year_released': 2023}\n"
     ]
    }
   ],
   "source": [
    "# question 3\n",
    "game[\"rating\"] = 4.7\n",
    "\n",
    "# question 4\n",
    "game[\"year_released\"] = 2023\n",
    "\n",
    "# question 5\n",
    "del(game[\"platforms\"])\n",
    "\n",
    "# question 6\n",
    "print(game)"
   ]
  },
  {
   "cell_type": "code",
   "execution_count": 6,
   "id": "aa791201",
   "metadata": {},
   "outputs": [
    {
     "data": {
      "text/plain": [
       "dict_keys(['title', 'price', 'rating', 'year_released'])"
      ]
     },
     "execution_count": 6,
     "metadata": {},
     "output_type": "execute_result"
    }
   ],
   "source": [
    "# question 7\n",
    "game.keys()"
   ]
  },
  {
   "cell_type": "code",
   "execution_count": 8,
   "id": "ae046111",
   "metadata": {},
   "outputs": [
    {
     "name": "stdout",
     "output_type": "stream",
     "text": [
      "['Resident Evil 4 Remake', 39.99, 4.7, 2023]\n"
     ]
    }
   ],
   "source": [
    "# question 8\n",
    "game_list = list(game.values())\n",
    "print (game_list)"
   ]
  },
  {
   "cell_type": "code",
   "execution_count": 11,
   "id": "c4b690f0",
   "metadata": {},
   "outputs": [
    {
     "name": "stdout",
     "output_type": "stream",
     "text": [
      "{'title': 'Resident Evil 4 Remake', 'price': 39.99, 'rating': 4.7, 'year_released': 2023, 'publisher': 'CAPCOM', 'dlc_available': True}\n"
     ]
    }
   ],
   "source": [
    "# question 9\n",
    "game_additional = {\"publisher\": \"CAPCOM\", \"dlc_available\": True}\n",
    "\n",
    "# question 10\n",
    "game.update(game_additional)\n",
    "print(game)"
   ]
  }
 ],
 "metadata": {
  "kernelspec": {
   "display_name": "venv",
   "language": "python",
   "name": "python3"
  },
  "language_info": {
   "codemirror_mode": {
    "name": "ipython",
    "version": 3
   },
   "file_extension": ".py",
   "mimetype": "text/x-python",
   "name": "python",
   "nbconvert_exporter": "python",
   "pygments_lexer": "ipython3",
   "version": "3.13.2"
  }
 },
 "nbformat": 4,
 "nbformat_minor": 5
}
