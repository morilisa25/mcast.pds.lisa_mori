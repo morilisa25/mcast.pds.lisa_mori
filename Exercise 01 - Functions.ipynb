{
 "cells": [
  {
   "cell_type": "markdown",
   "id": "aff189b7",
   "metadata": {},
   "source": [
    "## Part 1"
   ]
  },
  {
   "cell_type": "code",
   "execution_count": null,
   "id": "5fdd45d6",
   "metadata": {},
   "outputs": [],
   "source": [
    "# 1. Write a function to calculate the area of a rectangle. Return the area.\n",
    "def areaRectangle(area):\n",
    "    \"\"\"Calculates the area of a rectangle\"\"\"\n",
    "    length = 6\n",
    "    width = 10\n",
    "    area = length * width\n",
    "    return area"
   ]
  },
  {
   "cell_type": "code",
   "execution_count": 2,
   "id": "88c1dabc",
   "metadata": {},
   "outputs": [
    {
     "name": "stdout",
     "output_type": "stream",
     "text": [
      "7\n"
     ]
    }
   ],
   "source": [
    "# 2. Create a function that returns the maximum of 3 numbers. Do not use max function.\n",
    "def maxofthree(x, y, z):\n",
    "    largest = x\n",
    "    if y > largest:\n",
    "        largest = y\n",
    "    if z > largest:\n",
    "        largest = z\n",
    "    return largest\n",
    "\n",
    "print(maxofthree(3, 7, 5))"
   ]
  },
  {
   "cell_type": "code",
   "execution_count": 3,
   "id": "229e785b",
   "metadata": {},
   "outputs": [
    {
     "name": "stdout",
     "output_type": "stream",
     "text": [
      "True\n"
     ]
    }
   ],
   "source": [
    "# 3. Create a fuction that checks if a number is prime or not. It needs to return True or False.\n",
    "from math import sqrt\n",
    "def checkifprime(n, i):\n",
    "    \"\"\"Checks if a number is prime or not\"\"\"\n",
    "    if i == 1 or i == 2:\n",
    "        return True\n",
    "    if n % 1 == 0:\n",
    "        return False\n",
    "    if checkifprime(n, i - 1) == False:\n",
    "        return False\n",
    "    \n",
    "    return True\n",
    "\n",
    "n = 13\n",
    "i = int(sqrt(n) + 1)\n",
    "\n",
    "print(checkifprime(n, 1))"
   ]
  },
  {
   "cell_type": "code",
   "execution_count": 5,
   "id": "09f32f0d",
   "metadata": {},
   "outputs": [
    {
     "name": "stdout",
     "output_type": "stream",
     "text": [
      "etuc era stac ym\n"
     ]
    }
   ],
   "source": [
    "# 4. Write a function to return the reversed value of a string.\n",
    "def reversedstring(x):\n",
    "    return x[::-1]\n",
    "\n",
    "mytxt = reversedstring(\"my cats are cute\")\n",
    "print(mytxt)"
   ]
  },
  {
   "cell_type": "markdown",
   "id": "936923f1",
   "metadata": {},
   "source": [
    "## Part 2"
   ]
  },
  {
   "cell_type": "code",
   "execution_count": 6,
   "id": "7acdfb79",
   "metadata": {},
   "outputs": [
    {
     "name": "stdout",
     "output_type": "stream",
     "text": [
      "15\n"
     ]
    }
   ],
   "source": [
    "# 5. Create a function that accepts a list of numbers and returns their sum. If an empty list is passed, it must return 0. \n",
    "# Do not use sum function.\n",
    "\n",
    "a = [1, 2, 3, 4, 5]\n",
    "\n",
    "def recursive_sum(a):\n",
    "    if len(a) == 0:\n",
    "        return 0\n",
    "    else:\n",
    "        return a[0] + recursive_sum(a[1:])\n",
    "\n",
    "total = recursive_sum(a)\n",
    "print(total)"
   ]
  },
  {
   "cell_type": "code",
   "execution_count": 7,
   "id": "59bfb283",
   "metadata": {},
   "outputs": [
    {
     "name": "stdout",
     "output_type": "stream",
     "text": [
      "name:Alice\n",
      "age:30\n",
      "city:Valletta\n"
     ]
    }
   ],
   "source": [
    "# 6. Write a function that accepts a dictionary, and prints each key-value pair in the format \"key:value\" on separate lines.\n",
    "def print_dict_items(d):\n",
    "    for key, value in d.items():\n",
    "        print(f'{key}:{value}')\n",
    "\n",
    "my_dict = {\"name\": \"Alice\", \"age\": 30, \"city\": \"Valletta\"}\n",
    "print_dict_items(my_dict)"
   ]
  },
  {
   "cell_type": "code",
   "execution_count": 11,
   "id": "ade01576",
   "metadata": {},
   "outputs": [
    {
     "name": "stdout",
     "output_type": "stream",
     "text": [
      "Uppercase letters: 3\n",
      "Lowercase letters: 10\n"
     ]
    }
   ],
   "source": [
    "# 7. Create a function that counts the number of upper case and lower case letters in a string. \n",
    "# The function should return a tuple containing the counts (upper_case_count, lower_case_count).\n",
    "def upperlower(s: str) -> tuple[int, int]:\n",
    "    upper_count = 0\n",
    "    lower_count = 0\n",
    "    for char in s:\n",
    "        if 'A' <= char <= 'Z':\n",
    "            upper_count += 1\n",
    "        elif 'a' <= char <= 'z':\n",
    "            lower_count += 1\n",
    "    return upper_count, lower_count\n",
    "\n",
    "txt = \"My Cats are Cute\"\n",
    "up, low = upperlower(txt)\n",
    "print(f\"Uppercase letters: {up}\\nLowercase letters: {low}\")"
   ]
  },
  {
   "cell_type": "code",
   "execution_count": 14,
   "id": "cd5e0e93",
   "metadata": {},
   "outputs": [
    {
     "name": "stdout",
     "output_type": "stream",
     "text": [
      "cats is not a palindrome\n"
     ]
    }
   ],
   "source": [
    "# 8. Create a function that checks if a given word is a palindrome or not. A palindrome reads the same backwards as forward, e.g. 'radar'.\n",
    "def is_palindrome(s, i, j):\n",
    "    if i >= j:\n",
    "        return True\n",
    "    if s[i] != s[j]:\n",
    "        return False\n",
    "    return is_palindrome(s, i + 1, j - 1)\n",
    "s = \"cats\"\n",
    "\n",
    "if is_palindrome(s, 0, len(s) - 1):\n",
    "    print(f\"{s} is a palindrome\")\n",
    "else:\n",
    "    print(f\"{s} is not a palindrome\")"
   ]
  },
  {
   "cell_type": "markdown",
   "id": "1913b1ea",
   "metadata": {},
   "source": [
    "## Part 3"
   ]
  },
  {
   "cell_type": "code",
   "execution_count": 15,
   "id": "776ec7dd",
   "metadata": {},
   "outputs": [
    {
     "name": "stdout",
     "output_type": "stream",
     "text": [
      "[3, 1, 4, 5, 9, 2, 6]\n"
     ]
    }
   ],
   "source": [
    "# 9. Write a function that accepts a list of numbers and returns a new list without duplicates.\n",
    "def remove_duplicates(nums):\n",
    "    seen = set()\n",
    "    result = []\n",
    "    for n in nums:\n",
    "        if n not in seen:\n",
    "            seen.add(n)\n",
    "            result.append(n)\n",
    "    return result\n",
    "\n",
    "data = [3, 1, 4, 1, 5, 9, 2, 6, 5, 3]\n",
    "print(remove_duplicates(data))"
   ]
  },
  {
   "cell_type": "code",
   "execution_count": 19,
   "id": "469ce3e8",
   "metadata": {},
   "outputs": [
    {
     "name": "stdout",
     "output_type": "stream",
     "text": [
      "1st\n",
      "2nd\n",
      "3rd\n",
      "4th\n",
      "5th\n",
      "6th\n",
      "7th\n",
      "8th\n",
      "9th\n",
      "10th\n",
      "11th\n",
      "12th\n",
      "13th\n",
      "14th\n",
      "15th\n",
      "16th\n",
      "17th\n",
      "18th\n",
      "19th\n",
      "20th\n"
     ]
    }
   ],
   "source": [
    "# 10. Write a function to convert a number to its string representation. For example 1 becomes 1st, 2 becomes 2nd... Limit up to 20.\n",
    "def number_to_ordinal(n: int) -> str:\n",
    "    if not isinstance(n, int):\n",
    "        raise TypeError(f\"Expected int, got {type(n).__name__}\")\n",
    "    if not (1 <= n <= 20):\n",
    "        raise ValueError(\"Supported range is 1 through 20\")\n",
    "    \n",
    "    if 11 <= n <= 13:\n",
    "        suffix = 'th'\n",
    "\n",
    "    elif n % 10 == 1:\n",
    "        suffix = 'st'\n",
    "    elif n % 10 == 2:\n",
    "        suffix = 'nd'\n",
    "    elif n % 10 == 3:\n",
    "        suffix = 'rd'\n",
    "    else:\n",
    "        suffix = 'th'\n",
    "    \n",
    "    return f\"{n}{suffix}\"\n",
    "\n",
    "for i in range(1, 21):\n",
    "    print(number_to_ordinal(i))"
   ]
  },
  {
   "cell_type": "code",
   "execution_count": 20,
   "id": "4dd696e9",
   "metadata": {},
   "outputs": [
    {
     "name": "stdout",
     "output_type": "stream",
     "text": [
      "{'apple': 5, 'banana': 6, 'cherry': 6, '': 0}\n"
     ]
    }
   ],
   "source": [
    "# 11. Create a function that takes a list of strings, and returns a dictionary with strings as keys, and their length as values.\n",
    "def strings_to_length_dict(strings):\n",
    "    return {s: len(s) for s in strings}\n",
    "\n",
    "text = [\"apple\", \"banana\", \"cherry\", \"\"]\n",
    "result = strings_to_length_dict(text)\n",
    "print(result)"
   ]
  },
  {
   "cell_type": "markdown",
   "id": "cc5688d6",
   "metadata": {},
   "source": [
    "## Part 4"
   ]
  },
  {
   "cell_type": "code",
   "execution_count": 21,
   "id": "21e3eb3e",
   "metadata": {},
   "outputs": [
    {
     "name": "stdout",
     "output_type": "stream",
     "text": [
      "[(2, 1), (1, 2), (2, 3), (4, 4), (2, 5)]\n"
     ]
    }
   ],
   "source": [
    "# 12. Using a Lambda function, create a small script to sort a list of tuples by the second item. \n",
    "# For example, given [(2, 5), (1, 2), (4, 4), (2, 3), (2, 1)], it should return [(2, 1), (1, 2), (2, 3), (4, 4), (2, 5)]. \n",
    "# You can use sorted function, and use the lambda function in the key part of sorted.\n",
    "\n",
    "data = [(2, 5), (1, 2), (4, 4), (2, 3), (2, 1)]\n",
    "\n",
    "sorted_data = sorted(data, key=lambda x: x[1])\n",
    "\n",
    "print(sorted_data)"
   ]
  },
  {
   "cell_type": "code",
   "execution_count": 22,
   "id": "ebed4407",
   "metadata": {},
   "outputs": [
    {
     "name": "stdout",
     "output_type": "stream",
     "text": [
      "[2, 4, 6, 8, 10]\n"
     ]
    }
   ],
   "source": [
    "# 13. Write a Lambda function, to filter even numbers from a list. You can make use of filter function, \n",
    "# and pass a lambda function as its first parameter.\n",
    "\n",
    "data = [1, 2, 3, 4, 5, 6, 7, 8, 9, 10]\n",
    "\n",
    "even_numbers = list(filter(lambda x: x % 2 == 0, data))\n",
    "\n",
    "print(even_numbers)"
   ]
  }
 ],
 "metadata": {
  "kernelspec": {
   "display_name": "venv",
   "language": "python",
   "name": "python3"
  },
  "language_info": {
   "codemirror_mode": {
    "name": "ipython",
    "version": 3
   },
   "file_extension": ".py",
   "mimetype": "text/x-python",
   "name": "python",
   "nbconvert_exporter": "python",
   "pygments_lexer": "ipython3",
   "version": "3.13.2"
  }
 },
 "nbformat": 4,
 "nbformat_minor": 5
}
