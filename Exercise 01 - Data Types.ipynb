{
 "cells": [
  {
   "cell_type": "code",
   "execution_count": null,
   "id": "093f3c97",
   "metadata": {},
   "outputs": [
    {
     "name": "stdout",
     "output_type": "stream",
     "text": [
      "<class 'int'>\n",
      "<class 'float'>\n",
      "<class 'str'>\n"
     ]
    }
   ],
   "source": [
    "# question 1\n",
    "length = 56\n",
    "width = 34.56\n",
    "shape = \"rectangle\"\n",
    "\n",
    "#question 2\n",
    "print (type(length))\n",
    "print (type(width))\n",
    "print (type(shape))"
   ]
  },
  {
   "cell_type": "code",
   "execution_count": 3,
   "id": "37649917",
   "metadata": {},
   "outputs": [
    {
     "name": "stdout",
     "output_type": "stream",
     "text": [
      "1935.3600000000001\n",
      "181.12\n"
     ]
    }
   ],
   "source": [
    "# question 3\n",
    "area = length * width\n",
    "\n",
    "# question 4\n",
    "perimeter = 2 * (length + width)\n",
    "\n",
    "# question 5\n",
    "print(area)\n",
    "print(perimeter)"
   ]
  },
  {
   "cell_type": "code",
   "execution_count": 5,
   "id": "03445486",
   "metadata": {},
   "outputs": [
    {
     "name": "stdout",
     "output_type": "stream",
     "text": [
      "1904\n"
     ]
    }
   ],
   "source": [
    "# question 6\n",
    "width = int(width)\n",
    "area_int = length * width\n",
    "print(area_int)"
   ]
  },
  {
   "cell_type": "code",
   "execution_count": 6,
   "id": "f147384d",
   "metadata": {},
   "outputs": [
    {
     "name": "stdout",
     "output_type": "stream",
     "text": [
      "<class 'float'>\n",
      "<class 'int'>\n"
     ]
    }
   ],
   "source": [
    "# question 7\n",
    "print(type(area))\n",
    "print(type(area_int))"
   ]
  },
  {
   "cell_type": "markdown",
   "id": "ae663a7a",
   "metadata": {},
   "source": [
    "they are not the same type"
   ]
  },
  {
   "cell_type": "code",
   "execution_count": 16,
   "id": "da218e14",
   "metadata": {},
   "outputs": [
    {
     "name": "stdout",
     "output_type": "stream",
     "text": [
      "The area of the rectangleis 1904cm2.\n"
     ]
    }
   ],
   "source": [
    "# question 8\n",
    "msg = \"\".join([\"The area of the \", shape, \"is \", str(area_int), \"cm2.\"])\n",
    "\n",
    "# question 9\n",
    "print(msg)"
   ]
  },
  {
   "cell_type": "code",
   "execution_count": 19,
   "id": "52fc8f2d",
   "metadata": {},
   "outputs": [
    {
     "name": "stdout",
     "output_type": "stream",
     "text": [
      "The unit of measurement is cm2\n"
     ]
    }
   ],
   "source": [
    "# question 10\n",
    "print ('The unit of measurement is ' + msg[-4:-1])"
   ]
  }
 ],
 "metadata": {
  "kernelspec": {
   "display_name": "venv",
   "language": "python",
   "name": "python3"
  },
  "language_info": {
   "codemirror_mode": {
    "name": "ipython",
    "version": 3
   },
   "file_extension": ".py",
   "mimetype": "text/x-python",
   "name": "python",
   "nbconvert_exporter": "python",
   "pygments_lexer": "ipython3",
   "version": "3.13.2"
  }
 },
 "nbformat": 4,
 "nbformat_minor": 5
}
