{
 "cells": [
  {
   "cell_type": "markdown",
   "id": "e244afc2",
   "metadata": {},
   "source": [
    "## Part 1"
   ]
  },
  {
   "cell_type": "code",
   "execution_count": 2,
   "id": "3eb19aec",
   "metadata": {},
   "outputs": [
    {
     "name": "stdout",
     "output_type": "stream",
     "text": [
      "1\n",
      "2\n",
      "3\n",
      "4\n",
      "5\n",
      "6\n",
      "7\n",
      "8\n",
      "9\n",
      "10\n"
     ]
    }
   ],
   "source": [
    "# 1. Print the numbers 1 to 10 using a for loop.\n",
    "for x in range(1, 11):\n",
    "    print(x)"
   ]
  },
  {
   "cell_type": "code",
   "execution_count": 9,
   "id": "6bfc202e",
   "metadata": {},
   "outputs": [
    {
     "name": "stdout",
     "output_type": "stream",
     "text": [
      "5\n",
      "6\n",
      "7\n",
      "8\n",
      "9\n",
      "10\n"
     ]
    }
   ],
   "source": [
    "# 2. Use a while loop to print numbers from 5 to 10.\n",
    "start = 5\n",
    "end = 10\n",
    "i = start\n",
    "while i <= end:\n",
    "    print(i)\n",
    "    i += 1"
   ]
  },
  {
   "cell_type": "code",
   "execution_count": 10,
   "id": "1af90b0e",
   "metadata": {},
   "outputs": [
    {
     "name": "stdout",
     "output_type": "stream",
     "text": [
      "This number is even\n"
     ]
    }
   ],
   "source": [
    "# 3. Write an if-else statement to check if a number is even or odd.\n",
    "number = 6\n",
    "if number % 2 == 0:\n",
    "    print(\"This number is even\")\n",
    "else:\n",
    "    print(\"This number is odd\")"
   ]
  },
  {
   "cell_type": "code",
   "execution_count": 13,
   "id": "e5fd8795",
   "metadata": {},
   "outputs": [
    {
     "name": "stdout",
     "output_type": "stream",
     "text": [
      "APPLE\n",
      "BANANA\n",
      "MANGO\n",
      "PEAR\n",
      "PEACH\n"
     ]
    }
   ],
   "source": [
    "# 4. Create a list of 5 fruits, and use a for loop to print each fruit in uppercase.\n",
    "fruits = [\"apple\", \"banana\", \"mango\", \"pear\", \"peach\"]\n",
    "for i in range(0, len(fruits)):\n",
    "    print(fruits[i].upper())"
   ]
  },
  {
   "cell_type": "code",
   "execution_count": 16,
   "id": "9b916c80",
   "metadata": {},
   "outputs": [
    {
     "name": "stdout",
     "output_type": "stream",
     "text": [
      "2\n",
      "4\n",
      "6\n",
      "8\n",
      "10\n"
     ]
    }
   ],
   "source": [
    "# 5. Given a list of numbers, use a for loop to print every even number.\n",
    "for i in range(1, 12):\n",
    "    if i % 2 == 0:\n",
    "        print(i)"
   ]
  },
  {
   "cell_type": "code",
   "execution_count": 20,
   "id": "17626605",
   "metadata": {},
   "outputs": [
    {
     "name": "stdout",
     "output_type": "stream",
     "text": [
      "List of names:  ['lisa', 'charles', 'claudette', 'brian']\n"
     ]
    }
   ],
   "source": [
    "# 6. Use a while loop and input() to collect 3 valid names (not empty) from a user. Print them at the end.\n",
    "name_list = []\n",
    "\n",
    "while True:\n",
    "    name = input(\"Enter a name: \")\n",
    "    if name == 'done':\n",
    "        break\n",
    "    name_list.append(name)\n",
    "\n",
    "print(\"List of names: \", name_list)"
   ]
  },
  {
   "cell_type": "code",
   "execution_count": 22,
   "id": "deb4e77e",
   "metadata": {},
   "outputs": [
    {
     "name": "stdout",
     "output_type": "stream",
     "text": [
      "Grade: A\n"
     ]
    }
   ],
   "source": [
    "# 7. Use if-elif-else to print the grade (A,B,C,D,F) for a given mark (0 to 100).\n",
    "grade = 80\n",
    "if grade >= 0 and grade <=49:\n",
    "    print(\"Grade: U\")\n",
    "elif grade >= 50 and grade <= 59:\n",
    "    print(\"Grade: D\")\n",
    "elif grade >= 60 and grade <= 69:\n",
    "    print(\"Grade: C\")\n",
    "elif grade >= 70 and grade <= 79:\n",
    "    print(\"Grade: B\")\n",
    "elif grade >= 80 and grade <= 89:\n",
    "    print(\"Grade: A\")\n",
    "elif grade >= 90 and grade <= 100:\n",
    "    print(\"Grade: A*\")"
   ]
  },
  {
   "cell_type": "markdown",
   "id": "30d83771",
   "metadata": {},
   "source": [
    "## Part 2"
   ]
  },
  {
   "cell_type": "code",
   "execution_count": 2,
   "id": "afa33069",
   "metadata": {},
   "outputs": [
    {
     "name": "stdout",
     "output_type": "stream",
     "text": [
      "Madison\n",
      "Meredith\n"
     ]
    }
   ],
   "source": [
    "# 8. Given a dictionary with names as keys and ages as values. Print names of all people older than 18.\n",
    "people = {\"Madison\": 20, \"Naomi\": 18, \"Mark\": 16, \"Meredith\": 68, \"Lily-Rose\": 15}\n",
    "for key, value in people.items():\n",
    "    if value > 18:\n",
    "        print(key)"
   ]
  },
  {
   "cell_type": "code",
   "execution_count": null,
   "id": "84dd1fda",
   "metadata": {},
   "outputs": [
    {
     "name": "stdout",
     "output_type": "stream",
     "text": [
      "9\t\n",
      "12\t\n",
      "15\t\n",
      "12\t\n",
      "16\t\n",
      "20\t\n",
      "15\t\n",
      "20\t\n",
      "25\t\n",
      "\n"
     ]
    }
   ],
   "source": [
    "# 9. Use a nested for loop to print the multiplication tables for numbers 3 to 5.\n",
    "for i in range(3, 6):\n",
    "    for j in range(3, 6):\n",
    "        print(i * j, end=\"\\t\\n\")\n",
    "print()"
   ]
  },
  {
   "cell_type": "code",
   "execution_count": 7,
   "id": "5dddfaee",
   "metadata": {},
   "outputs": [
    {
     "name": "stdout",
     "output_type": "stream",
     "text": [
      "1\n",
      "2\n",
      "3\n",
      "4\n",
      "5\n",
      "6\n",
      "7\n"
     ]
    }
   ],
   "source": [
    "# 10. Write a while loop that stops after iterating 7 times using a break operator.\n",
    "i = 1\n",
    "while i < 10:\n",
    "    print(i)\n",
    "    if i == 7:\n",
    "        break\n",
    "    i += 1"
   ]
  },
  {
   "cell_type": "code",
   "execution_count": null,
   "id": "8933ccb4",
   "metadata": {},
   "outputs": [],
   "source": [
    "# 11. Given a list, use a for loop and if statement to pint all elements greater than 10.\n",
    "numbers = [4, 11, 7, 15, 3, 22, 10, 13]\n",
    "\n",
    "for num in numbers:\n",
    "    if num > 10:\n",
    "        print(num)"
   ]
  },
  {
   "cell_type": "code",
   "execution_count": null,
   "id": "eace8d44",
   "metadata": {},
   "outputs": [
    {
     "name": "stdout",
     "output_type": "stream",
     "text": [
      "[6]\n",
      "[6, 10]\n",
      "[6, 10, 4]\n",
      "[6, 10, 4, 5]\n",
      "[6, 10, 4, 5, 8]\n"
     ]
    }
   ],
   "source": [
    "# 12. Create a set of 5 random numbers using a loop and use a for loop to display all numbers squared. Hint: use random package.\n",
    "import random\n",
    "\n",
    "numbers = []\n",
    "for _ in range(5):\n",
    "    numbers.append(random.randint(1, 10))\n",
    "    print (numbers)\n"
   ]
  },
  {
   "cell_type": "code",
   "execution_count": 25,
   "id": "2cf5857d",
   "metadata": {},
   "outputs": [
    {
     "name": "stdout",
     "output_type": "stream",
     "text": [
      "6 squared is 36\n",
      "10 squared is 100\n",
      "4 squared is 16\n",
      "5 squared is 25\n",
      "8 squared is 64\n"
     ]
    }
   ],
   "source": [
    "for num in numbers:\n",
    "    print(f\"{num} squared is {num**2}\")"
   ]
  },
  {
   "cell_type": "code",
   "execution_count": 27,
   "id": "d74927a2",
   "metadata": {},
   "outputs": [
    {
     "name": "stdout",
     "output_type": "stream",
     "text": [
      "The letter A appeared in abracadabra 5 times\n"
     ]
    }
   ],
   "source": [
    "# 13. Given a string use a for loop to count how many times the letter a appears.\n",
    "string = \"abracadabra\"\n",
    "frequency = {}\n",
    "for char in string:\n",
    "    if char in frequency:\n",
    "        frequency[char] += 1\n",
    "    else:\n",
    "        frequency[char] = 1\n",
    "print(f\"The letter A appeared in {string}\", frequency.get('a', 0), \"times\")"
   ]
  },
  {
   "cell_type": "code",
   "execution_count": 31,
   "id": "16a3e47e",
   "metadata": {},
   "outputs": [
    {
     "name": "stdout",
     "output_type": "stream",
     "text": [
      "m\n",
      "y\n",
      "c\n",
      "a\n",
      "t\n",
      "s\n",
      "a\n",
      "r\n",
      "e\n",
      "c\n",
      "u\n",
      "t\n",
      "e\n"
     ]
    }
   ],
   "source": [
    "# 14. Write a for loop that iterates over a string and prints each character, except spaces (use continue).\n",
    "# s = \"my cats are cute\"\n",
    "# for char in s:\n",
    "    # if char != \" \":\n",
    "        # print (char)\n",
    "\n",
    "s = \"my cats are cute\"\n",
    "for char in s:\n",
    "    if char == \" \":\n",
    "        continue\n",
    "    print(char)"
   ]
  },
  {
   "cell_type": "markdown",
   "id": "f441a059",
   "metadata": {},
   "source": [
    "## Part 3"
   ]
  },
  {
   "cell_type": "code",
   "execution_count": 33,
   "id": "5d6c0b5a",
   "metadata": {},
   "outputs": [
    {
     "name": "stdout",
     "output_type": "stream",
     "text": [
      "Alice\n",
      "Bob\n",
      "Diana\n"
     ]
    }
   ],
   "source": [
    "# 15. Given a list of tuples where each tuple contains a name, and a score, write a loop to print names of people with scores greater \n",
    "# than 75.\n",
    "people_scores = (\n",
    "    (\"Alice\", 95),\n",
    "    (\"Bob\", 87),\n",
    "    (\"Charlie\", 65),\n",
    "    (\"Diana\", 82),\n",
    ")\n",
    "\n",
    "for name, score in people_scores:\n",
    "    if score > 75:\n",
    "        print(name)"
   ]
  },
  {
   "cell_type": "code",
   "execution_count": 34,
   "id": "78c5aabf",
   "metadata": {},
   "outputs": [],
   "source": [
    "# 16. Implement a while loop that asks for user input until they type exit.\n",
    "while True:\n",
    "    string = input(\"Enter something: \")\n",
    "    if string == 'exit':\n",
    "        break"
   ]
  },
  {
   "cell_type": "code",
   "execution_count": 35,
   "id": "359cae10",
   "metadata": {},
   "outputs": [
    {
     "name": "stdout",
     "output_type": "stream",
     "text": [
      "1: 1\n",
      "2: 4\n",
      "3: 9\n",
      "4: 16\n",
      "5: 25\n",
      "6: 36\n",
      "7: 49\n",
      "8: 64\n",
      "9: 81\n",
      "10: 100\n"
     ]
    }
   ],
   "source": [
    "# 17. Create a dictionary using loops to map numbers from 1 to 10 to their square values. Print all the elements in the set.\n",
    "squares = {}\n",
    "\n",
    "for i in range(1, 11):\n",
    "    squares[i] = i ** 2\n",
    "\n",
    "for key, value in squares.items():\n",
    "    print(f\"{key}: {value}\")"
   ]
  },
  {
   "cell_type": "code",
   "execution_count": 38,
   "id": "e1654e4d",
   "metadata": {},
   "outputs": [
    {
     "name": "stdout",
     "output_type": "stream",
     "text": [
      "1 a\n",
      "2 b\n",
      "3 c\n",
      "4 d\n",
      "5 e\n"
     ]
    }
   ],
   "source": [
    "# 18. Given two lists of equal length, use a single for loop to print each pair of elements from both lists.\n",
    "list1 = [1, 2, 3, 4, 5]\n",
    "list2 = ['a', 'b', 'c', 'd', 'e']\n",
    "\n",
    "for item1, item2 in zip(list1, list2):\n",
    "    print(item1, item2)"
   ]
  },
  {
   "cell_type": "code",
   "execution_count": 40,
   "id": "82d04f96",
   "metadata": {},
   "outputs": [
    {
     "name": "stdout",
     "output_type": "stream",
     "text": [
      "\n",
      "*\n",
      "**\n",
      "***\n",
      "****\n",
      "*****\n"
     ]
    }
   ],
   "source": [
    "# 19. \n",
    "rows = 5\n",
    "for i in range(rows+1):\n",
    "    for j in range(i):\n",
    "        print(\"*\", end='')\n",
    "    print('')"
   ]
  },
  {
   "cell_type": "code",
   "execution_count": 41,
   "id": "1f2e2407",
   "metadata": {},
   "outputs": [
    {
     "name": "stdout",
     "output_type": "stream",
     "text": [
      "[1, 4, 27, 16, 125]\n"
     ]
    }
   ],
   "source": [
    "# 20. Create a list of numbers. Then, using a single loop, create a new list that contains each number squared if the number is even or \n",
    "# cubed if the number is odd.\n",
    "numbers = [1, 2, 3, 4, 5]\n",
    "new_list = []\n",
    "for i in numbers:\n",
    "    if i % 2 == 0:\n",
    "        new_list.append(i**2)\n",
    "    else:\n",
    "        new_list.append(i**3)\n",
    "print(new_list)"
   ]
  }
 ],
 "metadata": {
  "kernelspec": {
   "display_name": "venv",
   "language": "python",
   "name": "python3"
  },
  "language_info": {
   "codemirror_mode": {
    "name": "ipython",
    "version": 3
   },
   "file_extension": ".py",
   "mimetype": "text/x-python",
   "name": "python",
   "nbconvert_exporter": "python",
   "pygments_lexer": "ipython3",
   "version": "3.13.2"
  }
 },
 "nbformat": 4,
 "nbformat_minor": 5
}
