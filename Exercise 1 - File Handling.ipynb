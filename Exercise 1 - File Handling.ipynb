{
 "cells": [
  {
   "cell_type": "markdown",
   "id": "ab211b18",
   "metadata": {},
   "source": [
    "1. Create a function that accepts a filename and number_of_lines. The function should do the following:\n",
    "\n",
    "- Generate a random number from 1 to 1000 or a random word (from a pre-determined list) for number_of_lines times.\n",
    "- To decided if it's a number or words use random and use a 50:50 ratio.\n",
    "- You can set a pre-determined number of words; for instance a list with 5 fruits.\n",
    "- After the number of items have been generated, store them in a file using the given filename making sure that every entry is on a new line."
   ]
  },
  {
   "cell_type": "code",
   "execution_count": null,
   "id": "ffb23c7a",
   "metadata": {},
   "outputs": [
    {
     "name": "stdout",
     "output_type": "stream",
     "text": [
      "File 'output.txt' generate with 25 lines.\n"
     ]
    }
   ],
   "source": [
    "import random\n",
    "\n",
    "def generate_file(filename, number_of_lines):\n",
    "    \"\"\"Generates a file\"\"\"\n",
    "    words = ['apple', 'banana', 'cherry', 'date', 'elderberry']\n",
    "    with open(filename, 'w') as f:\n",
    "        for _ in range(number_of_lines):\n",
    "            if random.random() < 0.5:\n",
    "                entry = str(random.randint(1, 1000))\n",
    "            else:\n",
    "                entry = random.choice(words)\n",
    "            f.write(entry + '\\n')\n",
    "\n",
    "# 2. Use the previous function to generate a new file file_1.txt with 25 lines.\n",
    "generate_file('file_1.txt', 25)\n",
    "print(\"File 'output.txt' generate with 25 lines.\")"
   ]
  },
  {
   "cell_type": "code",
   "execution_count": 3,
   "id": "f1698fe7",
   "metadata": {},
   "outputs": [
    {
     "name": "stdout",
     "output_type": "stream",
     "text": [
      "FIle 'file_1.txt' generated with 10 lines.\n",
      "Reading and printing file content:\n",
      "136\n",
      "627\n",
      "307\n",
      "192\n",
      "cherry\n",
      "cherry\n",
      "294\n",
      "255\n",
      "152\n",
      "date\n"
     ]
    }
   ],
   "source": [
    "# 3. Write a function that reads the content of a file (parameter) and prints every line to the console.\n",
    "def read_and_print_file(filename):\n",
    "    \"\"\"Reads the content of the given gile and prints each line to the console.\"\"\"\n",
    "    with open(filename, 'r') as f:\n",
    "        for line in f:\n",
    "            print(line.rstrip('\\n'))\n",
    "\n",
    "output_file = 'file_1.txt'\n",
    "generate_file(output_file, 10)\n",
    "print(f\"FIle '{output_file}' generated with 10 lines.\")\n",
    "print(\"Reading and printing file content:\")\n",
    "read_and_print_file(output_file)"
   ]
  },
  {
   "cell_type": "code",
   "execution_count": 8,
   "id": "f233482d",
   "metadata": {},
   "outputs": [
    {
     "name": "stdout",
     "output_type": "stream",
     "text": [
      "The file 'file_1.txt' contains 10 lines.\n"
     ]
    }
   ],
   "source": [
    "# 4. Write a function that takes a filename as input and returns the number of lines in the file.\n",
    "def count_lines(filename):\n",
    "    \"\"\"Returns the number of lines in the given file\"\"\"\n",
    "    with open(filename, 'r') as f:\n",
    "        return sum(1 for _ in f)\n",
    "    \n",
    "line_count = count_lines(output_file)\n",
    "print(f\"The file '{output_file}' contains {line_count} lines.\")"
   ]
  },
  {
   "cell_type": "code",
   "execution_count": 9,
   "id": "178e7ec9",
   "metadata": {},
   "outputs": [
    {
     "name": "stdout",
     "output_type": "stream",
     "text": [
      "Content copied from 'file_1.txt' to 'copy.txt'.\n",
      "Reading and printing copied file content:\n",
      "136\n",
      "627\n",
      "307\n",
      "192\n",
      "cherry\n",
      "cherry\n",
      "294\n",
      "255\n",
      "152\n",
      "date\n"
     ]
    }
   ],
   "source": [
    "# 5. Write a function that copies the content of a source file to a new destination file both must be passed as parameters.\n",
    "def copy_file(source_filename, destination_filename):\n",
    "    \"\"\"Copies the content of a file to another\"\"\"\n",
    "    with open(source_filename, 'r') as src, open(destination_filename, 'w') as dst:\n",
    "        for line in src:\n",
    "            dst.write(line)\n",
    "\n",
    "copied_file = 'copy.txt'\n",
    "copy_file(output_file, copied_file)\n",
    "print(f\"Content copied from '{output_file}' to '{copied_file}'.\")\n",
    "print(\"Reading and printing copied file content:\")\n",
    "read_and_print_file(copied_file)"
   ]
  },
  {
   "cell_type": "code",
   "execution_count": 10,
   "id": "cc14b522",
   "metadata": {},
   "outputs": [
    {
     "name": "stdout",
     "output_type": "stream",
     "text": [
      "The sum of numeric values in 'copy.txt' is 1963.\n"
     ]
    }
   ],
   "source": [
    "# 6. Assuming you have a file a combination of numbers and/or strings per line. Write a function that calculates the sum of the number \n",
    "# values only.\n",
    "def sum_numbers(filename):\n",
    "    \"\"\"Calculates and returns the sum of all numbers in the file.\"\"\"\n",
    "    total = 0\n",
    "    with open(filename, 'r') as f:\n",
    "        for line in f:\n",
    "            item = line.strip() \n",
    "            try:\n",
    "                num = int(item)\n",
    "                total += num\n",
    "            except ValueError:\n",
    "                continue\n",
    "    return total\n",
    "\n",
    "sum_result = sum_numbers(copied_file)\n",
    "print(f\"The sum of numeric values in '{copied_file}' is {sum_result}.\")"
   ]
  },
  {
   "cell_type": "code",
   "execution_count": 11,
   "id": "35ce7fc8",
   "metadata": {},
   "outputs": [
    {
     "name": "stdout",
     "output_type": "stream",
     "text": [
      "File 'copy.txt' dashboard:\n",
      " Lines: 10\n",
      " Words: 10\n",
      " Characters: 47\n"
     ]
    }
   ],
   "source": [
    "# 7. Write a function that takes a filename and prints a dashboard of information: number of lines, number of words, number of characters.\n",
    "def print_file_dashboard(filename):\n",
    "    \"\"\"Prints a dashboard of information of a file\"\"\"\n",
    "    num_lines = count_lines(filename)\n",
    "    num_words = 0\n",
    "    num_chars = 0\n",
    "    with open(filename, 'r') as f:\n",
    "        for line in f:\n",
    "            num_chars += len(line)\n",
    "            num_words += len(line.split())\n",
    "    print(f\"File '{filename}' dashboard:\")\n",
    "    print(f\" Lines: {num_lines}\")\n",
    "    print(f\" Words: {num_words}\")\n",
    "    print(f\" Characters: {num_chars}\")\n",
    "\n",
    "print_file_dashboard(copied_file)"
   ]
  },
  {
   "cell_type": "markdown",
   "id": "94c7539b",
   "metadata": {},
   "source": [
    "8. Write a function that takes a filename (for this example pass ibm_log.txt). The function must return a dictionary with every log file   category, and the number of times it appeared.\n",
    "\n",
    "- Every line in the log file is as follows: 03/22 08:51:01 INFO   :.main: Using log level 511\n",
    "- We can consider the label to be INFO in this case.\n",
    "- Make sure that keys are cleaned (remove :) before adding them to dictionary.\n",
    "- Finally, return a dictionary with all the keys and the number of times they appear."
   ]
  },
  {
   "cell_type": "code",
   "execution_count": 15,
   "id": "9ec8b1fe",
   "metadata": {},
   "outputs": [
    {
     "name": "stdout",
     "output_type": "stream",
     "text": [
      "Log file 'ibm_log.txt' not found.\n"
     ]
    }
   ],
   "source": [
    "def count_log_categories(filename):\n",
    "    counts = {}\n",
    "    try:\n",
    "        with open(filename, 'r') as f:\n",
    "            for line in f:\n",
    "                parts = line.split()\n",
    "                if len(parts) >= 3:\n",
    "                    category = parts[2].strip(':')\n",
    "                    counts[category] = counts.get(category, 0) + 1\n",
    "    except FileNotFoundError:\n",
    "        print(f\"Log file '{filename}' not found.\")\n",
    "    return counts\n",
    "\n",
    "log_file = 'ibm_log.txt'\n",
    "category_counts = count_log_categories(log_file)\n",
    "if category_counts:\n",
    "    print(f\"Log file '{log_file}' category counts:\")\n",
    "    for category, count in category_counts.items():\n",
    "            print(f\"  {category}: {count}\")"
   ]
  }
 ],
 "metadata": {
  "kernelspec": {
   "display_name": "venv",
   "language": "python",
   "name": "python3"
  },
  "language_info": {
   "codemirror_mode": {
    "name": "ipython",
    "version": 3
   },
   "file_extension": ".py",
   "mimetype": "text/x-python",
   "name": "python",
   "nbconvert_exporter": "python",
   "pygments_lexer": "ipython3",
   "version": "3.13.2"
  }
 },
 "nbformat": 4,
 "nbformat_minor": 5
}
