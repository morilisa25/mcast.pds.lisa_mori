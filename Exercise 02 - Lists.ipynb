{
 "cells": [
  {
   "cell_type": "code",
   "execution_count": 3,
   "id": "0c476c29",
   "metadata": {},
   "outputs": [
    {
     "name": "stdout",
     "output_type": "stream",
     "text": [
      "My age is 19\n",
      "Gaming\n"
     ]
    }
   ],
   "source": [
    "# question 1\n",
    "details = [\"Lisa\", \"19\", [\"Reading\", \"Hiking\", \"Gaming\"]]\n",
    "\n",
    "# question 2\n",
    "print (\"My age is \" + details[1])\n",
    "\n",
    "# question 3\n",
    "print (details[-1][-1])"
   ]
  },
  {
   "cell_type": "code",
   "execution_count": null,
   "id": "4d1d0b89",
   "metadata": {},
   "outputs": [
    {
     "name": "stdout",
     "output_type": "stream",
     "text": [
      "['Lisa', '19', ['Reading', 'Hiking', 'Gaming'], 'lisa.mori.h63618@mcast.edu.mt']\n"
     ]
    }
   ],
   "source": [
    "# question 4\n",
    "details.append(\"lisa.mori.h63618@mcast.edu.mt\")\n",
    "\n",
    "# question 5\n",
    "print(details)"
   ]
  },
  {
   "cell_type": "code",
   "execution_count": 12,
   "id": "2e26624a",
   "metadata": {},
   "outputs": [
    {
     "name": "stdout",
     "output_type": "stream",
     "text": [
      "['Lisa', '19', ['Reading', 'Hiking', 'Gaming', 'Drawing'], 'lisa.mori.h63618@mcast.edu.mt']\n"
     ]
    }
   ],
   "source": [
    "# question 6\n",
    "details[2].append(\"Drawing\")\n",
    "\n",
    "# question 7\n",
    "print (details)"
   ]
  },
  {
   "cell_type": "code",
   "execution_count": 13,
   "id": "7f03972e",
   "metadata": {},
   "outputs": [
    {
     "name": "stdout",
     "output_type": "stream",
     "text": [
      "['Lisa', '19', ['Reading', 'Hiking', 'Gaming', 'Drawing'], 'lisa.mori.h63618@mcast.edu.mt']\n"
     ]
    }
   ],
   "source": [
    "# question 8\n",
    "details_copy = [\"\"]\n",
    "\n",
    "# question 9\n",
    "for item in details:\n",
    "    details_copy = details.copy()\n",
    "\n",
    "# question 10\n",
    "print (details_copy)"
   ]
  },
  {
   "cell_type": "code",
   "execution_count": 14,
   "id": "127f62cf",
   "metadata": {},
   "outputs": [
    {
     "name": "stdout",
     "output_type": "stream",
     "text": [
      "['Lisa', '19', ['Reading', 'Hiking', 'Gaming', 'Drawing']]\n"
     ]
    }
   ],
   "source": [
    "# question 11\n",
    "details_copy.pop(-1)\n",
    "print(details_copy)"
   ]
  },
  {
   "cell_type": "code",
   "execution_count": 18,
   "id": "2dc7b889",
   "metadata": {},
   "outputs": [
    {
     "name": "stdout",
     "output_type": "stream",
     "text": [
      "I have 4 hobbies\n"
     ]
    }
   ],
   "source": [
    "# question 12\n",
    "print(f\"I have \" + str(len(details[2])) + \" hobbies\")"
   ]
  },
  {
   "cell_type": "code",
   "execution_count": 21,
   "id": "083b6f67",
   "metadata": {},
   "outputs": [
    {
     "name": "stdout",
     "output_type": "stream",
     "text": [
      "['19', 'Lisa', ['Reading', 'Hiking', 'Gaming', 'Drawing']]\n"
     ]
    }
   ],
   "source": [
    "# question 13\n",
    "details_copy.sort(key=str)\n",
    "print(details_copy)"
   ]
  }
 ],
 "metadata": {
  "kernelspec": {
   "display_name": "venv",
   "language": "python",
   "name": "python3"
  },
  "language_info": {
   "codemirror_mode": {
    "name": "ipython",
    "version": 3
   },
   "file_extension": ".py",
   "mimetype": "text/x-python",
   "name": "python",
   "nbconvert_exporter": "python",
   "pygments_lexer": "ipython3",
   "version": "3.13.2"
  }
 },
 "nbformat": 4,
 "nbformat_minor": 5
}
