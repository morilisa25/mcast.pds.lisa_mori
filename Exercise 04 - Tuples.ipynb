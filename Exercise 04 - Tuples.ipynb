{
 "cells": [
  {
   "cell_type": "code",
   "execution_count": 1,
   "id": "e5a3fd2f",
   "metadata": {},
   "outputs": [],
   "source": [
    "# question 1\n",
    "my_colours = {\"red\", \"green\", \"fuchsia\"}"
   ]
  },
  {
   "cell_type": "code",
   "execution_count": 2,
   "id": "0b08e3cc",
   "metadata": {},
   "outputs": [],
   "source": [
    "# question 2\n",
    "used_colours = [\"red\", \"orange\", \"purple\"]"
   ]
  },
  {
   "cell_type": "code",
   "execution_count": null,
   "id": "e5fabc86",
   "metadata": {},
   "outputs": [
    {
     "name": "stdout",
     "output_type": "stream",
     "text": [
      "{'green', 'orange', 'purple', 'fuchsia', 'red'}\n"
     ]
    }
   ],
   "source": [
    "# question 3\n",
    "for item in used_colours:\n",
    "    my_colours.add(item)\n",
    "\n",
    "# question 4\n",
    "print(my_colours)"
   ]
  },
  {
   "cell_type": "code",
   "execution_count": 6,
   "id": "a27bc040",
   "metadata": {},
   "outputs": [
    {
     "name": "stdout",
     "output_type": "stream",
     "text": [
      "{'fuchsia'}\n"
     ]
    }
   ],
   "source": [
    "# question 5\n",
    "interesting_colours = {\"fuchsia\", \"turquoise\"}\n",
    "\n",
    "# question 6\n",
    "common_elements = my_colours.intersection(interesting_colours)\n",
    "print(common_elements)"
   ]
  },
  {
   "cell_type": "code",
   "execution_count": 8,
   "id": "9ff39d95",
   "metadata": {},
   "outputs": [
    {
     "name": "stdout",
     "output_type": "stream",
     "text": [
      "No, brown is not in this set.\n"
     ]
    }
   ],
   "source": [
    "# question 7\n",
    "if \"brown\" in my_colours:\n",
    "    print(\"Yes, brown is in this set\")\n",
    "else:\n",
    "    print(\"No, brown is not in this set.\")"
   ]
  },
  {
   "cell_type": "code",
   "execution_count": 9,
   "id": "962d4195",
   "metadata": {},
   "outputs": [
    {
     "ename": "TypeError",
     "evalue": "unhashable type: 'set'",
     "output_type": "error",
     "traceback": [
      "\u001b[1;31m---------------------------------------------------------------------------\u001b[0m",
      "\u001b[1;31mTypeError\u001b[0m                                 Traceback (most recent call last)",
      "Cell \u001b[1;32mIn[9], line 2\u001b[0m\n\u001b[0;32m      1\u001b[0m \u001b[38;5;66;03m# question 8\u001b[39;00m\n\u001b[1;32m----> 2\u001b[0m frozen_colours \u001b[38;5;241m=\u001b[39m \u001b[38;5;28;43mfrozenset\u001b[39;49m\u001b[43m(\u001b[49m\u001b[43m[\u001b[49m\u001b[43mmy_colours\u001b[49m\u001b[43m]\u001b[49m\u001b[43m)\u001b[49m\n\u001b[0;32m      4\u001b[0m frozen_colours\u001b[38;5;241m.\u001b[39madd(\u001b[38;5;124m\"\u001b[39m\u001b[38;5;124mBrown\u001b[39m\u001b[38;5;124m\"\u001b[39m)\n",
      "\u001b[1;31mTypeError\u001b[0m: unhashable type: 'set'"
     ]
    }
   ],
   "source": [
    "# question 8\n",
    "frozen_colours = frozenset([my_colours])\n",
    "\n",
    "frozen_colours.add(\"Brown\")"
   ]
  }
 ],
 "metadata": {
  "kernelspec": {
   "display_name": "venv",
   "language": "python",
   "name": "python3"
  },
  "language_info": {
   "codemirror_mode": {
    "name": "ipython",
    "version": 3
   },
   "file_extension": ".py",
   "mimetype": "text/x-python",
   "name": "python",
   "nbconvert_exporter": "python",
   "pygments_lexer": "ipython3",
   "version": "3.13.2"
  }
 },
 "nbformat": 4,
 "nbformat_minor": 5
}
